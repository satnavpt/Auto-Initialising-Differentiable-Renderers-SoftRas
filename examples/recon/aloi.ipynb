{
 "cells": [
  {
   "cell_type": "code",
   "execution_count": 2,
   "metadata": {},
   "outputs": [],
   "source": [
    "import os\n",
    "# import soft_renderer.functional as srf\n",
    "# import torch\n",
    "import numpy as np\n",
    "import tqdm\n",
    "import re\n",
    "# import matplotlib.pyplot as plt\n",
    "import imageio\n",
    "from PIL import Image"
   ]
  },
  {
   "cell_type": "code",
   "execution_count": 3,
   "metadata": {},
   "outputs": [],
   "source": [
    "def sorted_alphanumeric(data):\n",
    "    convert = lambda text: int(text) if text.isdigit() else text.lower()\n",
    "    alphanum_key = lambda key: [ convert(c) for c in re.split('([0-9]+)', key) ] \n",
    "    return sorted(data, key=alphanum_key)"
   ]
  },
  {
   "cell_type": "code",
   "execution_count": 4,
   "metadata": {},
   "outputs": [],
   "source": [
    "object_ids = range(1,1001)\n",
    "directory = '/mnt/c/Users/prana/OneDrive/Documents/University/II/Machine Visual Perception/Machine-Visual-Perception/Project/SoftRas/data/aloi'"
   ]
  },
  {
   "cell_type": "code",
   "execution_count": 21,
   "metadata": {},
   "outputs": [
    {
     "name": "stderr",
     "output_type": "stream",
     "text": [
      "Loading dataset: 100%|██████████| 200/200 [13:13<00:00,  3.97s/it]\n"
     ]
    }
   ],
   "source": [
    "loop = tqdm.tqdm(object_ids[0:200])\n",
    "loop.set_description('Loading dataset')\n",
    "\n",
    "images = []\n",
    "\n",
    "for object_id in loop:\n",
    "    sil_dir = os.path.join(directory, ('sil_256/' + str(object_id)))\n",
    "    sil_files = sorted_alphanumeric(os.listdir(sil_dir))\n",
    "    for sil_file in sil_files:\n",
    "        sil = Image.open(os.path.join(sil_dir, sil_file)).convert('RGBA')\n",
    "        sil = np.array(sil.resize((64,64)))\n",
    "        images.append(sil.transpose(2,0,1))\n",
    "        new_sil_dir = os.path.join(directory, ('sil_64/' + str(object_id)))\n",
    "        os.makedirs(new_sil_dir, exist_ok=True)\n",
    "        imageio.v2.imsave(os.path.join(new_sil_dir, sil_file), sil)\n",
    "\n",
    "images = np.asarray(images)\n",
    "images = np.ascontiguousarray(images)"
   ]
  },
  {
   "cell_type": "code",
   "execution_count": 22,
   "metadata": {},
   "outputs": [],
   "source": [
    "np.save(os.path.join(directory, 'sil_source_1.npy'), images)"
   ]
  },
  {
   "cell_type": "code",
   "execution_count": 23,
   "metadata": {},
   "outputs": [
    {
     "name": "stderr",
     "output_type": "stream",
     "text": [
      "Loading dataset: 100%|██████████| 200/200 [14:23<00:00,  4.32s/it]\n"
     ]
    }
   ],
   "source": [
    "loop = tqdm.tqdm(object_ids[200:400])\n",
    "loop.set_description('Loading dataset')\n",
    "\n",
    "images = []\n",
    "\n",
    "for object_id in loop:\n",
    "    sil_dir = os.path.join(directory, ('sil_256/' + str(object_id)))\n",
    "    sil_files = sorted_alphanumeric(os.listdir(sil_dir))\n",
    "    for sil_file in sil_files:\n",
    "        sil = Image.open(os.path.join(sil_dir, sil_file)).convert('RGBA')\n",
    "        sil = np.array(sil.resize((64,64)))\n",
    "        images.append(sil.transpose(2,0,1))\n",
    "        new_sil_dir = os.path.join(directory, ('sil_64/' + str(object_id)))\n",
    "        os.makedirs(new_sil_dir, exist_ok=True)\n",
    "        imageio.v2.imsave(os.path.join(new_sil_dir, sil_file), sil)\n",
    "\n",
    "images = np.asarray(images)\n",
    "images = np.ascontiguousarray(images)"
   ]
  },
  {
   "cell_type": "code",
   "execution_count": 24,
   "metadata": {},
   "outputs": [],
   "source": [
    "np.save(os.path.join(directory, 'sil_source_2.npy'), images)"
   ]
  },
  {
   "cell_type": "code",
   "execution_count": 25,
   "metadata": {},
   "outputs": [
    {
     "name": "stderr",
     "output_type": "stream",
     "text": [
      "Loading dataset: 100%|██████████| 200/200 [16:37<00:00,  4.99s/it]\n"
     ]
    }
   ],
   "source": [
    "loop = tqdm.tqdm(object_ids[400:600])\n",
    "loop.set_description('Loading dataset')\n",
    "\n",
    "images = []\n",
    "\n",
    "for object_id in loop:\n",
    "    sil_dir = os.path.join(directory, ('sil_256/' + str(object_id)))\n",
    "    sil_files = sorted_alphanumeric(os.listdir(sil_dir))\n",
    "    for sil_file in sil_files:\n",
    "        sil = Image.open(os.path.join(sil_dir, sil_file)).convert('RGBA')\n",
    "        sil = np.array(sil.resize((64,64)))\n",
    "        images.append(sil.transpose(2,0,1))\n",
    "        new_sil_dir = os.path.join(directory, ('sil_64/' + str(object_id)))\n",
    "        os.makedirs(new_sil_dir, exist_ok=True)\n",
    "        imageio.v2.imsave(os.path.join(new_sil_dir, sil_file), sil)\n",
    "\n",
    "images = np.asarray(images)\n",
    "images = np.ascontiguousarray(images)"
   ]
  },
  {
   "cell_type": "code",
   "execution_count": 26,
   "metadata": {},
   "outputs": [],
   "source": [
    "np.save(os.path.join(directory, 'sil_source_3.npy'), images)"
   ]
  },
  {
   "cell_type": "code",
   "execution_count": 27,
   "metadata": {},
   "outputs": [
    {
     "name": "stderr",
     "output_type": "stream",
     "text": [
      "Loading dataset: 100%|██████████| 200/200 [15:24<00:00,  4.62s/it]\n"
     ]
    }
   ],
   "source": [
    "loop = tqdm.tqdm(object_ids[600:800])\n",
    "loop.set_description('Loading dataset')\n",
    "\n",
    "images = []\n",
    "\n",
    "for object_id in loop:\n",
    "    sil_dir = os.path.join(directory, ('sil_256/' + str(object_id)))\n",
    "    sil_files = sorted_alphanumeric(os.listdir(sil_dir))\n",
    "    for sil_file in sil_files:\n",
    "        sil = Image.open(os.path.join(sil_dir, sil_file)).convert('RGBA')\n",
    "        sil = np.array(sil.resize((64,64)))\n",
    "        images.append(sil.transpose(2,0,1))\n",
    "        new_sil_dir = os.path.join(directory, ('sil_64/' + str(object_id)))\n",
    "        os.makedirs(new_sil_dir, exist_ok=True)\n",
    "        imageio.v2.imsave(os.path.join(new_sil_dir, sil_file), sil)\n",
    "\n",
    "images = np.asarray(images)\n",
    "images = np.ascontiguousarray(images)"
   ]
  },
  {
   "cell_type": "code",
   "execution_count": 28,
   "metadata": {},
   "outputs": [],
   "source": [
    "np.save(os.path.join(directory, 'sil_source_4.npy'), images)"
   ]
  },
  {
   "cell_type": "code",
   "execution_count": 29,
   "metadata": {},
   "outputs": [
    {
     "name": "stderr",
     "output_type": "stream",
     "text": [
      "Loading dataset: 100%|██████████| 200/200 [17:14<00:00,  5.17s/it]\n"
     ]
    }
   ],
   "source": [
    "loop = tqdm.tqdm(object_ids[800:])\n",
    "loop.set_description('Loading dataset')\n",
    "\n",
    "images = []\n",
    "\n",
    "for object_id in loop:\n",
    "    sil_dir = os.path.join(directory, ('sil_256/' + str(object_id)))\n",
    "    sil_files = sorted_alphanumeric(os.listdir(sil_dir))\n",
    "    for sil_file in sil_files:\n",
    "        sil = Image.open(os.path.join(sil_dir, sil_file)).convert('RGBA')\n",
    "        sil = np.array(sil.resize((64,64)))\n",
    "        images.append(sil.transpose(2,0,1))\n",
    "        new_sil_dir = os.path.join(directory, ('sil_64/' + str(object_id)))\n",
    "        os.makedirs(new_sil_dir, exist_ok=True)\n",
    "        imageio.v2.imsave(os.path.join(new_sil_dir, sil_file), sil)\n",
    "\n",
    "images = np.asarray(images)\n",
    "images = np.ascontiguousarray(images)"
   ]
  },
  {
   "cell_type": "code",
   "execution_count": 30,
   "metadata": {},
   "outputs": [],
   "source": [
    "np.save(os.path.join(directory, 'sil_source_5.npy'), images)"
   ]
  },
  {
   "cell_type": "code",
   "execution_count": 33,
   "metadata": {},
   "outputs": [],
   "source": [
    "arr1 = np.load(os.path.join(directory, 'sil_source_1.npy'))\n",
    "arr2 = np.load(os.path.join(directory, 'sil_source_2.npy'))\n",
    "arr3 = np.load(os.path.join(directory, 'sil_source_3.npy'))\n",
    "arr4 = np.load(os.path.join(directory, 'sil_source_4.npy'))\n",
    "arr5 = np.load(os.path.join(directory, 'sil_source_5.npy'))"
   ]
  },
  {
   "cell_type": "code",
   "execution_count": 34,
   "metadata": {},
   "outputs": [
    {
     "data": {
      "text/plain": [
       "(14400, 4, 64, 64)"
      ]
     },
     "execution_count": 34,
     "metadata": {},
     "output_type": "execute_result"
    }
   ],
   "source": [
    "arr1.shape"
   ]
  },
  {
   "cell_type": "code",
   "execution_count": 38,
   "metadata": {},
   "outputs": [],
   "source": [
    "combined = np.concatenate([arr1, arr2, arr3, arr4, arr5], axis=0)"
   ]
  },
  {
   "cell_type": "code",
   "execution_count": 39,
   "metadata": {},
   "outputs": [],
   "source": [
    "np.save(os.path.join(directory, 'sil_source.npy'), combined)"
   ]
  },
  {
   "cell_type": "code",
   "execution_count": 40,
   "metadata": {},
   "outputs": [
    {
     "data": {
      "text/plain": [
       "(72000, 4, 64, 64)"
      ]
     },
     "execution_count": 40,
     "metadata": {},
     "output_type": "execute_result"
    }
   ],
   "source": [
    "c = np.load(os.path.join(directory, 'sil_source.npy'))\n",
    "c.shape"
   ]
  },
  {
   "cell_type": "code",
   "execution_count": 9,
   "metadata": {},
   "outputs": [
    {
     "name": "stderr",
     "output_type": "stream",
     "text": [
      "Loading dataset: 100%|██████████| 100/100 [01:38<00:00,  1.02it/s]\n"
     ]
    },
    {
     "ename": "",
     "evalue": "",
     "output_type": "error",
     "traceback": [
      "\u001b[1;31mThe Kernel crashed while executing code in the the current cell or a previous cell. Please review the code in the cell(s) to identify a possible cause of the failure. Click <a href='https://aka.ms/vscodeJupyterKernelCrash'>here</a> for more info. View Jupyter <a href='command:jupyter.viewOutput'>log</a> for further details."
     ]
    }
   ],
   "source": [
    "loop = tqdm.tqdm(object_ids[0:100])\n",
    "loop.set_description('Loading dataset')\n",
    "\n",
    "images = []\n",
    "\n",
    "for object_id in loop:\n",
    "    sil_dir = os.path.join(directory, ('sil_256/' + str(object_id)))\n",
    "    sil_files = sorted_alphanumeric(os.listdir(sil_dir))\n",
    "    for sil_file in sil_files:\n",
    "        sil = np.array(Image.open(os.path.join(sil_dir, sil_file)).convert('RGBA'))\n",
    "        images.append(sil.transpose(2,0,1))\n",
    "\n",
    "images = np.asarray(images)\n",
    "images = np.ascontiguousarray(images)\n",
    "np.save(os.path.join(directory, 'sil_source_256.npy'), images)"
   ]
  },
  {
   "cell_type": "code",
   "execution_count": 7,
   "metadata": {},
   "outputs": [
    {
     "name": "stderr",
     "output_type": "stream",
     "text": [
      "Loading dataset: 100%|██████████| 1000/1000 [1:15:19<00:00,  4.52s/it]\n"
     ]
    }
   ],
   "source": [
    "loop = tqdm.tqdm(object_ids)\n",
    "loop.set_description('Loading dataset')\n",
    "\n",
    "images = []\n",
    "\n",
    "for object_id in loop:\n",
    "    sil_dir = os.path.join(directory, ('sil_256/' + str(object_id)))\n",
    "    sil_files = sorted_alphanumeric(os.listdir(sil_dir))\n",
    "    for sil_file in sil_files:\n",
    "        sil = np.array(Image.open(os.path.join(sil_dir, sil_file)).convert('RGBA'))\n",
    "        new_sil = (sil[:,:,:3] > 0).astype('uint8') * 124\n",
    "        new_sil = np.dstack([new_sil, sil[:,:,3]])\n",
    "        # images.append(new_sil)\n",
    "        new_sil_dir = os.path.join(directory, ('sil_grey_256/' + str(object_id)))\n",
    "        os.makedirs(new_sil_dir, exist_ok=True)\n",
    "        imageio.v2.imsave(os.path.join(new_sil_dir, sil_file), new_sil)\n",
    "\n",
    "# images = np.asarray(images)\n",
    "# images = np.ascontiguousarray(images)\n",
    "# np.save(os.path.join(directory, 'sil_source_grey_256_10.npy'), images)"
   ]
  },
  {
   "cell_type": "code",
   "execution_count": null,
   "metadata": {},
   "outputs": [],
   "source": []
  }
 ],
 "metadata": {
  "kernelspec": {
   "display_name": "Python 3.8.10 64-bit",
   "language": "python",
   "name": "python3"
  },
  "language_info": {
   "codemirror_mode": {
    "name": "ipython",
    "version": 3
   },
   "file_extension": ".py",
   "mimetype": "text/x-python",
   "name": "python",
   "nbconvert_exporter": "python",
   "pygments_lexer": "ipython3",
   "version": "3.8.10"
  },
  "orig_nbformat": 4,
  "vscode": {
   "interpreter": {
    "hash": "767d51c1340bd893661ea55ea3124f6de3c7a262a8b4abca0554b478b1e2ff90"
   }
  }
 },
 "nbformat": 4,
 "nbformat_minor": 2
}
